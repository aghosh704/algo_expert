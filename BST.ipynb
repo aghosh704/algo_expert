{
  "nbformat": 4,
  "nbformat_minor": 0,
  "metadata": {
    "colab": {
      "name": "BST.ipynb",
      "provenance": [],
      "authorship_tag": "ABX9TyMcSZ3bNNL/n3mfz6bhNTdL",
      "include_colab_link": true
    },
    "kernelspec": {
      "name": "python3",
      "display_name": "Python 3"
    },
    "language_info": {
      "name": "python"
    }
  },
  "cells": [
    {
      "cell_type": "markdown",
      "metadata": {
        "id": "view-in-github",
        "colab_type": "text"
      },
      "source": [
        "<a href=\"https://colab.research.google.com/github/aghosh704/algo_expert/blob/master/BST.ipynb\" target=\"_parent\"><img src=\"https://colab.research.google.com/assets/colab-badge.svg\" alt=\"Open In Colab\"/></a>"
      ]
    },
    {
      "cell_type": "code",
      "execution_count": 1,
      "metadata": {
        "id": "T23G5TVh780L"
      },
      "outputs": [],
      "source": [
        "class BST:\n",
        "    def __init__(self, value):\n",
        "        self.value = value\n",
        "        self.left = None\n",
        "        self.right = None\n",
        "\n",
        "    def insert(self, value):\n",
        "        if value < self.value:\n",
        "            if self.left is None:\n",
        "                self.left = BST(value)\n",
        "            else:\n",
        "                self.left.insert(value)\n",
        "        else:\n",
        "            if self.right is None:\n",
        "                self.right = BST(value)\n",
        "            else:\n",
        "                self.right.insert(value)\n",
        "\n",
        "def printTree(node, level=0):\n",
        "    if node is not None:\n",
        "        printTree(node.left, level + 1)\n",
        "        print(' ' * 4 * level + '->', node.value)\n",
        "        printTree(node.right, level + 1)\n"
      ]
    }
  ]
}